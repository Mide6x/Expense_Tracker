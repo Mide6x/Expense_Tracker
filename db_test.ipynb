{
 "cells": [
  {
   "cell_type": "code",
   "execution_count": 1,
   "metadata": {},
   "outputs": [],
   "source": [
    "from deta import Deta"
   ]
  },
  {
   "cell_type": "code",
   "execution_count": 6,
   "metadata": {},
   "outputs": [],
   "source": [
    "DETA_KEY = \"a0vy4sdci48_rGQywvgrvT5qMRYYkzikUmJBeQjThDWB\"\n",
    "\n",
    "deta = Deta(DETA_KEY)\n",
    "\n",
    "# This how to connect to or create a database.\n",
    "db = deta.Base(\"incomeTracker\")"
   ]
  },
  {
   "cell_type": "code",
   "execution_count": 7,
   "metadata": {},
   "outputs": [],
   "source": [
    "def insert_period(period, incomes, expenses, comment):\n",
    "    \"\"\"Returns the report on a successful creation, otherwise raises an error\"\"\"\n",
    "    return db.put({\"key\": period, \"incomes\": incomes, \"expenses\": expenses, \"comment\": comment})\n",
    "\n",
    "def fetch_all_periods():\n",
    "    \"\"\"Returns a dict of all periods\"\"\"\n",
    "    res = db.fetch()\n",
    "    return res.items\n",
    "\n",
    "def get_period(period):\n",
    "    \"\"\"If not found, function will return None\"\"\"\n",
    "    return db.get(period)"
   ]
  },
  {
   "cell_type": "code",
   "execution_count": 8,
   "metadata": {},
   "outputs": [],
   "source": [
    "# Example Data\n",
    "period = \"2022_April\"\n",
    "comment = \"Some comment\"\n",
    "incomes = {'Salary': 1500, 'Blog': 50, 'Other Income': 10}\n",
    "expenses = {'Rent': 600, 'Utilities': 200, 'Groceries': 300,\n",
    "            'Car': 100, 'Other Expenses': 50, 'Saving': 10}"
   ]
  },
  {
   "cell_type": "code",
   "execution_count": 9,
   "metadata": {},
   "outputs": [
    {
     "data": {
      "text/plain": [
       "{'comment': 'Some comment',\n",
       " 'expenses': {'Car': 100,\n",
       "  'Groceries': 300,\n",
       "  'Other Expenses': 50,\n",
       "  'Rent': 600,\n",
       "  'Saving': 10,\n",
       "  'Utilities': 200},\n",
       " 'incomes': {'Blog': 50, 'Other Income': 10, 'Salary': 1500},\n",
       " 'key': '2022_April'}"
      ]
     },
     "execution_count": 9,
     "metadata": {},
     "output_type": "execute_result"
    }
   ],
   "source": [
    "insert_period(period, incomes, expenses, comment)"
   ]
  },
  {
   "cell_type": "code",
   "execution_count": 10,
   "metadata": {},
   "outputs": [
    {
     "data": {
      "text/plain": [
       "[{'comment': 'Some comment',\n",
       "  'expenses': {'Car': 100,\n",
       "   'Groceries': 300,\n",
       "   'Other Expenses': 50,\n",
       "   'Rent': 600,\n",
       "   'Saving': 10,\n",
       "   'Utilities': 200},\n",
       "  'incomes': {'Blog': 50, 'Other Income': 10, 'Salary': 1500},\n",
       "  'key': '2022_April'}]"
      ]
     },
     "execution_count": 10,
     "metadata": {},
     "output_type": "execute_result"
    }
   ],
   "source": [
    "fetch_all_periods()"
   ]
  },
  {
   "cell_type": "code",
   "execution_count": 11,
   "metadata": {},
   "outputs": [
    {
     "data": {
      "text/plain": [
       "{'comment': 'Some comment',\n",
       " 'expenses': {'Car': 100,\n",
       "  'Groceries': 300,\n",
       "  'Other Expenses': 50,\n",
       "  'Rent': 600,\n",
       "  'Saving': 10,\n",
       "  'Utilities': 200},\n",
       " 'incomes': {'Blog': 50, 'Other Income': 10, 'Salary': 1500},\n",
       " 'key': '2022_April'}"
      ]
     },
     "execution_count": 11,
     "metadata": {},
     "output_type": "execute_result"
    }
   ],
   "source": [
    "get_period(\"2022_April\")"
   ]
  }
 ],
 "metadata": {
  "kernelspec": {
   "display_name": "Python 3",
   "language": "python",
   "name": "python3"
  },
  "language_info": {
   "codemirror_mode": {
    "name": "ipython",
    "version": 3
   },
   "file_extension": ".py",
   "mimetype": "text/x-python",
   "name": "python",
   "nbconvert_exporter": "python",
   "pygments_lexer": "ipython3",
   "version": "3.11.0"
  },
  "orig_nbformat": 4,
  "vscode": {
   "interpreter": {
    "hash": "c261aea317cc0286b3b3261fbba9abdec21eaa57589985bb7a274bf54d6cc0a7"
   }
  }
 },
 "nbformat": 4,
 "nbformat_minor": 2
}
